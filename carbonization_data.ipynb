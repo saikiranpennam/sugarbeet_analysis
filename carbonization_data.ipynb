{
 "cells": [
  {
   "cell_type": "code",
   "execution_count": null,
   "id": "initial_id",
   "metadata": {
    "collapsed": true
   },
   "outputs": [],
   "source": [
    "from cleanlab import Datalab"
   ]
  },
  {
   "cell_type": "code",
   "execution_count": null,
   "outputs": [],
   "source": [
    "data = \"/Users/saikiranpennam/Documents/RA/Western_Sugar_AI_Assessment_Working/2023/Data/Requested Carb Data.xlsx\""
   ],
   "metadata": {
    "collapsed": false
   },
   "id": "31fcb2aa95e43d78"
  },
  {
   "cell_type": "code",
   "execution_count": null,
   "outputs": [],
   "source": [
    "lab = Datalab(data=data, label_name=\"\")\n",
    "lab.find_issues(features=feature_embeddings, pred_probs=pred_probs)\n",
    "lab.report()"
   ],
   "metadata": {
    "collapsed": false
   },
   "id": "f716a125d9684050"
  }
 ],
 "metadata": {
  "kernelspec": {
   "display_name": "Python 3",
   "language": "python",
   "name": "python3"
  },
  "language_info": {
   "codemirror_mode": {
    "name": "ipython",
    "version": 2
   },
   "file_extension": ".py",
   "mimetype": "text/x-python",
   "name": "python",
   "nbconvert_exporter": "python",
   "pygments_lexer": "ipython2",
   "version": "2.7.6"
  }
 },
 "nbformat": 4,
 "nbformat_minor": 5
}
